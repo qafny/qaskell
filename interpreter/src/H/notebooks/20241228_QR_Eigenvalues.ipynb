{
 "cells": [
  {
   "cell_type": "code",
   "execution_count": 5,
   "id": "b4433e43",
   "metadata": {},
   "outputs": [],
   "source": [
    "import numpy as np\n",
    "import matplotlib.pyplot as plt\n",
    "import matplotlib.cm as cm\n",
    "from scipy.linalg import expm, eigh  # Use scipy for the matrix exponential function\n",
    "\n",
    "def qr_algorithm(A, tol=1e-10, max_iter=1000):\n",
    "    \"\"\"\n",
    "    Computes the eigenvalues of a square matrix A using the QR algorithm.\n",
    "    \n",
    "    Parameters:\n",
    "        A (numpy.ndarray): The input square matrix (n x n).\n",
    "        tol (float): Convergence tolerance for off-diagonal elements.\n",
    "        max_iter (int): Maximum number of iterations.\n",
    "    \n",
    "    Returns:\n",
    "        numpy.ndarray: Array of eigenvalues.\n",
    "    \"\"\"\n",
    "    # Ensure the matrix is square\n",
    "    n, m = A.shape\n",
    "    if n != m:\n",
    "        raise ValueError(\"Matrix A must be square\")\n",
    "    \n",
    "    # Copy A to avoid modifying the original matrix\n",
    "    A_k = A.copy()\n",
    "    \n",
    "    for k in range(max_iter):\n",
    "        # Shift: Use the bottom-right element of A_k as the shift\n",
    "        mu = A_k[-1, -1]\n",
    "        # Perform QR decomposition of (A_k - mu * I)\n",
    "        Q, R = np.linalg.qr(A_k - mu * np.eye(n))\n",
    "        # Update A_k\n",
    "        A_k = R @ Q + mu * np.eye(n)\n",
    "        \n",
    "        # Check for convergence\n",
    "        off_diagonal_norm = np.sqrt(np.sum(np.tril(A_k, -1)**2))\n",
    "        if off_diagonal_norm < tol:\n",
    "            break\n",
    "    else:\n",
    "        print(\"QR algorithm did not converge within the maximum number of iterations.\")\n",
    "    \n",
    "    # Eigenvalues are the diagonal elements of A_k\n",
    "    return np.diag(A_k)\n"
   ]
  },
  {
   "cell_type": "code",
   "execution_count": 8,
   "id": "4281244d",
   "metadata": {},
   "outputs": [
    {
     "name": "stdout",
     "output_type": "stream",
     "text": [
      "Eigenvalues: [7.28799214 2.13307448 0.57893339]\n"
     ]
    }
   ],
   "source": [
    "# Example usage:\n",
    "A = np.array([[6, 2, 1],\n",
    "              [2, 3, 1],\n",
    "              [1, 1, 1]], dtype=float)\n",
    "\n",
    "eigenvalues = qr_algorithm(A)\n",
    "print(\"Eigenvalues:\", eigenvalues)"
   ]
  },
  {
   "cell_type": "code",
   "execution_count": 6,
   "id": "18540dcc",
   "metadata": {},
   "outputs": [],
   "source": [
    "class Simulator:\n",
    "    def __init__(self, N, H):\n",
    "        self.N = N\n",
    "        self.H = H\n",
    "    \n",
    "    def compute_eigenvalues(self):\n",
    "        \"\"\"Compute all possible eigenvalues of the Hamiltonian.\"\"\"\n",
    "        eigenvalues = set()\n",
    "        for config in range(1 << self.N):\n",
    "            spins = [1 if (config & (1 << i)) else -1 for i in range(self.N)]\n",
    "            eigenvalue = self.H(spins)\n",
    "            eigenvalues.add(eigenvalue)\n",
    "        return sorted(eigenvalues)"
   ]
  },
  {
   "cell_type": "code",
   "execution_count": 7,
   "id": "e024bca9",
   "metadata": {},
   "outputs": [
    {
     "name": "stdout",
     "output_type": "stream",
     "text": [
      "[0, 4, 16, 36, 64, 100, 144]\n"
     ]
    }
   ],
   "source": [
    "class NumberPartitioning:\n",
    "    def __init__(self, numbers):\n",
    "        self.numbers = numbers\n",
    "    \n",
    "    def hamiltonian(self):\n",
    "        \"\"\"Define the Ising Hamiltonian for the problem.\"\"\"\n",
    "        # H = A * (sum(n_i * s_i))^2\n",
    "        return lambda spins: (np.sum(np.array(self.numbers) * np.array(spins))) ** 2\n",
    "    \n",
    "numbers = [3, 1, 4, 2, 2]\n",
    "np_problem = NumberPartitioning(numbers)\n",
    "sim = Simulator(len(numbers), np_problem.hamiltonian())\n",
    "\n",
    "eiganvalues = sim.compute_eigenvalues()\n",
    "print(eiganvalues)"
   ]
  },
  {
   "cell_type": "code",
   "execution_count": 17,
   "id": "7cac2a3b",
   "metadata": {},
   "outputs": [
    {
     "name": "stdout",
     "output_type": "stream",
     "text": [
      "[[144.+0.j   0.+0.j   0.+0.j ...   0.+0.j   0.+0.j   0.+0.j]\n",
      " [  0.+0.j  36.+0.j   0.+0.j ...   0.+0.j   0.+0.j   0.+0.j]\n",
      " [  0.+0.j   0.+0.j 100.+0.j ...   0.+0.j   0.+0.j   0.+0.j]\n",
      " ...\n",
      " [  0.+0.j   0.+0.j   0.+0.j ... 100.+0.j   0.+0.j   0.+0.j]\n",
      " [  0.+0.j   0.+0.j   0.+0.j ...   0.+0.j  36.+0.j   0.+0.j]\n",
      " [  0.+0.j   0.+0.j   0.+0.j ...   0.+0.j   0.+0.j 144.+0.j]]\n",
      "Number of spins: 5, Matrix size: 32 x 32\n"
     ]
    }
   ],
   "source": [
    "num_states = 2**sim.N    \n",
    "H_final = np.zeros((num_states, num_states), dtype=complex)\n",
    "\n",
    "# Construct the target (final) Hamiltonian matrix\n",
    "for config in range(num_states):\n",
    "    spins = [1 if (config & (1 << i)) else -1 for i in range(sim.N)]\n",
    "    energy = sim.H(spins)\n",
    "    H_final[config, config] = energy\n",
    "print(H_final)\n",
    "print(f\"Number of spins: {sim.N}, Matrix size: {2**sim.N} x {2**sim.N}\")"
   ]
  },
  {
   "cell_type": "code",
   "execution_count": 18,
   "id": "28cb2555",
   "metadata": {},
   "outputs": [
    {
     "name": "stdout",
     "output_type": "stream",
     "text": [
      "Eigenvalues: [144.+0.j  36.+0.j 100.+0.j  16.+0.j  16.+0.j   4.+0.j   4.+0.j  16.+0.j\n",
      "  64.+0.j   4.+0.j  36.+0.j   0.+0.j   0.+0.j  36.+0.j   4.+0.j  64.+0.j\n",
      "  64.+0.j   4.+0.j  36.+0.j   0.+0.j   0.+0.j  36.+0.j   4.+0.j  64.+0.j\n",
      "  16.+0.j   4.+0.j   4.+0.j  16.+0.j  16.+0.j 100.+0.j  36.+0.j 144.+0.j]\n"
     ]
    }
   ],
   "source": [
    "eigenvalues = qr_algorithm(H_final)\n",
    "print(\"Eigenvalues:\", eigenvalues)"
   ]
  },
  {
   "cell_type": "code",
   "execution_count": 21,
   "id": "c35c9c33",
   "metadata": {},
   "outputs": [],
   "source": [
    "import numpy as np\n",
    "\n",
    "def lanczos_eigenvalues(A, k=None, tol=1e-10):\n",
    "    \"\"\"\n",
    "    Computes the largest k eigenvalues of a symmetric/Hermitian matrix A using the Lanczos algorithm.\n",
    "    Handles both real and complex matrices.\n",
    "    \n",
    "    Parameters:\n",
    "        A (numpy.ndarray): The input symmetric (real) or Hermitian (complex) matrix (n x n).\n",
    "        k (int): Number of largest eigenvalues to compute. Defaults to n.\n",
    "        tol (float): Convergence tolerance.\n",
    "    \n",
    "    Returns:\n",
    "        numpy.ndarray: Array of the largest k eigenvalues.\n",
    "    \"\"\"\n",
    "    n = A.shape[0]\n",
    "    \n",
    "    # Ensure matrix is square\n",
    "    if A.shape[0] != A.shape[1]:\n",
    "        raise ValueError(\"Matrix A must be square\")\n",
    "    \n",
    "    # If k is not specified, compute all eigenvalues\n",
    "    if k is None or k > n:\n",
    "        k = n\n",
    "\n",
    "    # Initial vector (randomized for robustness), allowing complex numbers\n",
    "    v = np.random.rand(n) + 1j * np.random.rand(n) if np.iscomplexobj(A) else np.random.rand(n)\n",
    "    v /= np.linalg.norm(v)\n",
    "\n",
    "    # Initialize variables\n",
    "    T = np.zeros((k, k), dtype=A.dtype)  # Tridiagonal matrix\n",
    "    V = np.zeros((n, k), dtype=A.dtype)  # Lanczos vectors\n",
    "    beta = 0\n",
    "    q_prev = np.zeros(n, dtype=A.dtype)\n",
    "    \n",
    "    for j in range(k):\n",
    "        # Compute the Lanczos vector\n",
    "        w = A @ v - beta * q_prev\n",
    "        alpha = np.vdot(v, w)  # Use Hermitian inner product for complex matrices\n",
    "        w -= alpha * v\n",
    "        beta = np.linalg.norm(w)\n",
    "        \n",
    "        # Reorthogonalize if necessary\n",
    "        if beta < tol:\n",
    "            break\n",
    "        \n",
    "        # Update matrices\n",
    "        T[j, j] = alpha\n",
    "        if j < k - 1:\n",
    "            T[j, j + 1] = beta\n",
    "            T[j + 1, j] = beta\n",
    "        V[:, j] = v\n",
    "        q_prev = v\n",
    "        v = w / beta\n",
    "\n",
    "    # Solve the tridiagonal eigenproblem\n",
    "    eigvals, _ = np.linalg.eigh(T[:j+1, :j+1])\n",
    "    \n",
    "    return eigvals\n"
   ]
  },
  {
   "cell_type": "code",
   "execution_count": 22,
   "id": "c14ab17b",
   "metadata": {},
   "outputs": [
    {
     "name": "stdout",
     "output_type": "stream",
     "text": [
      "Eigenvalues: [ -4.22987996   1.64054703  14.41929779  35.68710798  63.97012304\n",
      "  99.98527072 143.99993012]\n"
     ]
    }
   ],
   "source": [
    "eigenvalues = lanczos_eigenvalues(H_final)\n",
    "print(\"Eigenvalues:\", eigenvalues)"
   ]
  },
  {
   "cell_type": "code",
   "execution_count": 24,
   "id": "a1f4b69f",
   "metadata": {},
   "outputs": [
    {
     "name": "stdout",
     "output_type": "stream",
     "text": [
      "Lanczos Eigenvalues: [-3.32729023e-14 -2.77759930e-14 -1.23575463e-14  1.51608071e-14\n",
      "  4.00000000e+00  4.00000000e+00  4.00000000e+00  4.00000000e+00\n",
      "  1.60000000e+01  1.60000000e+01  1.60000000e+01  1.60000000e+01\n",
      "  3.59999881e+01  3.60000000e+01  3.60000000e+01  3.60000000e+01\n",
      "  3.60000000e+01  6.39999842e+01  6.40000000e+01  6.40000000e+01\n",
      "  6.40000000e+01  6.40000000e+01  1.00000000e+02  1.00000000e+02\n",
      "  1.00000000e+02  1.00000000e+02  1.00000000e+02  1.44000000e+02\n",
      "  1.44000000e+02  1.44000000e+02  1.44000000e+02  1.44000000e+02]\n",
      "Exact Eigenvalues: [  0.   0.   0.   0.   4.   4.   4.   4.   4.   4.   4.   4.  16.  16.\n",
      "  16.  16.  16.  16.  36.  36.  36.  36.  36.  36.  64.  64.  64.  64.\n",
      " 100. 100. 144. 144.]\n"
     ]
    }
   ],
   "source": [
    "# Use the Lanczos algorithm with tightened parameters\n",
    "eigenvalues = lanczos_eigenvalues(H_final, k=H_final.shape[0], tol=1e-12)\n",
    "\n",
    "# Compare with exact eigenvalues\n",
    "exact_eigenvalues = np.linalg.eigh(H_final)[0]\n",
    "print(\"Lanczos Eigenvalues:\", eigenvalues)\n",
    "print(\"Exact Eigenvalues:\", exact_eigenvalues)"
   ]
  },
  {
   "cell_type": "code",
   "execution_count": null,
   "id": "8b89a614",
   "metadata": {},
   "outputs": [],
   "source": []
  }
 ],
 "metadata": {
  "kernelspec": {
   "display_name": "Python 3 (ipykernel)",
   "language": "python",
   "name": "python3"
  },
  "language_info": {
   "codemirror_mode": {
    "name": "ipython",
    "version": 3
   },
   "file_extension": ".py",
   "mimetype": "text/x-python",
   "name": "python",
   "nbconvert_exporter": "python",
   "pygments_lexer": "ipython3",
   "version": "3.11.5"
  }
 },
 "nbformat": 4,
 "nbformat_minor": 5
}
